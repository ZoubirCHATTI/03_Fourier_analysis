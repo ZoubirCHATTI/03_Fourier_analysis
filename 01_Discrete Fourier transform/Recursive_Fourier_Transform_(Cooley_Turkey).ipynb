{
  "nbformat": 4,
  "nbformat_minor": 0,
  "metadata": {
    "colab": {
      "provenance": [],
      "authorship_tag": "ABX9TyMlGGhQuF6bRbyUDJ5lXj5/",
      "include_colab_link": true
    },
    "kernelspec": {
      "name": "python3",
      "display_name": "Python 3"
    },
    "language_info": {
      "name": "python"
    }
  },
  "cells": [
    {
      "cell_type": "markdown",
      "metadata": {
        "id": "view-in-github",
        "colab_type": "text"
      },
      "source": [
        "<a href=\"https://colab.research.google.com/github/ZoubirCHATTI/03_Fourier_analysis/blob/main/01_Discrete%20Fourier%20transform/Recursive_Fourier_Transform_(Cooley_Turkey).ipynb\" target=\"_parent\"><img src=\"https://colab.research.google.com/assets/colab-badge.svg\" alt=\"Open In Colab\"/></a>"
      ]
    },
    {
      "cell_type": "markdown",
      "source": [
        "# **Fast Fourier Transform (Cooley Tukey)**"
      ],
      "metadata": {
        "id": "IYgonn4gV65y"
      }
    },
    {
      "cell_type": "markdown",
      "source": [
        "In this work, we implement the Cooley–Tukey algorithm for the calculation of the Fast Fourier Transform (FFT). This algorithm allows us to compute the Discrete Fourier Transform (DFT) much more efficiently than the traditional formula, especially for input sizes that are powers of two. To highlight this advantage, we will compare the Cooley–Tukey FFT with the direct implementation of the DFT, both in terms of the accuracy of the results and the execution time."
      ],
      "metadata": {
        "id": "P3ozma_FWEvt"
      }
    },
    {
      "cell_type": "code",
      "execution_count": 6,
      "metadata": {
        "id": "Knj1jDCIW-Na"
      },
      "outputs": [],
      "source": [
        "#Importation of necessary library\n",
        "import numpy as np"
      ]
    },
    {
      "cell_type": "markdown",
      "source": [
        "# **01_Implementing the discrete Fourier transform**"
      ],
      "metadata": {
        "id": "h58zLVirYHZA"
      }
    },
    {
      "cell_type": "markdown",
      "source": [
        "This first section implement the known traditional formula of discrete Fourier transform\n",
        "$$\n",
        "X[n] = \\sum_{k=0}^{N-1} x[k] \\, e^{-j \\tfrac{2\\pi}{N}kn}\n",
        "$$\n",
        "The function takes a vector of length $𝑁$ applies the discrete Fourier transform, and returns the result as a vector of the same length.\n"
      ],
      "metadata": {
        "id": "snXsirCuTsJu"
      }
    },
    {
      "cell_type": "code",
      "source": [
        "#Defining a function that computes the discrete Fourier transform\n",
        "def dft(x):                               #The function takes as entry a vector x\n",
        "\n",
        "  w=np.exp(-2*1j*np.pi/len(x))            #Twiddle factor\n",
        "\n",
        "  X_tild=[]                               #Creation of an empty list that will store the Fourier transform values\n",
        "\n",
        "  for k in range(len(x)):\n",
        "    x_=0\n",
        "    for n in range(len(x)):\n",
        "      x_+=w**(k*n)*x[n]                   # Calculate each term of the DFT sum for frequency bin k\n",
        "\n",
        "    X_tild.append(x_)                     # Append the k-th DFT component to the result list\n",
        "  return np.array(X_tild)"
      ],
      "metadata": {
        "id": "JQiulybJZCBF"
      },
      "execution_count": 7,
      "outputs": []
    },
    {
      "cell_type": "code",
      "source": [
        "#Testing the function on a small sample\n",
        "x=[1 , 25, 4 , 12]\n",
        "X_test=dft(x)\n",
        "X_test"
      ],
      "metadata": {
        "id": "Vk7jEiI6b5xU",
        "colab": {
          "base_uri": "https://localhost:8080/"
        },
        "outputId": "60191ebc-633d-4d04-9f8c-4f25bf2252fb"
      },
      "execution_count": 8,
      "outputs": [
        {
          "output_type": "execute_result",
          "data": {
            "text/plain": [
              "array([ 42.+0.00000000e+00j,  -3.-1.30000000e+01j, -32.-6.49062804e-15j,\n",
              "        -3.+1.30000000e+01j])"
            ]
          },
          "metadata": {},
          "execution_count": 8
        }
      ]
    },
    {
      "cell_type": "markdown",
      "source": [
        "# **02_Implementing the Cooley Tukey algorithm**"
      ],
      "metadata": {
        "id": "UkFHml7rmLTQ"
      }
    },
    {
      "cell_type": "markdown",
      "source": [
        "In this section, we will implement a function based on the Cooley–Tukey algorithm to compute the Discrete Fourier Transform (DFT).\n",
        "This function will be a recursive implementation of the Fast Fourier Transform (FFT)."
      ],
      "metadata": {
        "id": "vyAXELF7Ygf6"
      }
    },
    {
      "cell_type": "code",
      "source": [
        "def fft_recursive(x):\n",
        "\n",
        "  N=len(x)\n",
        "\n",
        "  assert (N & (N-1))==0                      #The length of the vector must be a power of 2\n",
        "\n",
        "  if N==1:\n",
        "    return x                                 #Base case: FFT of a single element is the element itself\n",
        "\n",
        "\n",
        "#Recursively compute FFT of even-indexed and odd-indexed elements\n",
        "  x_even=fft_recursive(x[0::2])\n",
        "  x_odd=fft_recursive(x[1::2])\n",
        "\n",
        "  X=np.zeros(N, dtype=complex)               #Allocate result array of size N (complex values)\n",
        "\n",
        "\n",
        "#Butterfly step: combine even and odd FFTs using twiddle factors\n",
        "  for k in range(N//2):\n",
        "    w=np.exp(-2j*np.pi*k/N)\n",
        "    X[k] = x_even[k] + w * x_odd[k]\n",
        "    X[k+N//2] = x_even[k] - w * x_odd[k]\n",
        "  return X"
      ],
      "metadata": {
        "id": "DjVNH4-8pBuT"
      },
      "execution_count": 9,
      "outputs": []
    },
    {
      "cell_type": "code",
      "source": [
        "X=fft_recursive(x)\n",
        "print(X)"
      ],
      "metadata": {
        "colab": {
          "base_uri": "https://localhost:8080/"
        },
        "id": "leVm5Gs-Nc36",
        "outputId": "067be720-22e2-4703-8dec-e2fdfc4555cf"
      },
      "execution_count": 10,
      "outputs": [
        {
          "output_type": "stream",
          "name": "stdout",
          "text": [
            "[ 42. +0.j  -3.-13.j -32. +0.j  -3.+13.j]\n"
          ]
        }
      ]
    }
  ]
}